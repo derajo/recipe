{
 "cells": [
  {
   "cell_type": "code",
   "execution_count": 1,
   "metadata": {},
   "outputs": [],
   "source": [
    "import json\n",
    "\n",
    "# Data Manipulation\n",
    "import pandas as pd\n",
    "\n",
    "# visualizations\n",
    "import seaborn as sns\n",
    "import matplotlib.pyplot as plt \n",
    "%matplotlib inline "
   ]
  },
  {
   "cell_type": "code",
   "execution_count": 3,
   "metadata": {},
   "outputs": [],
   "source": [
    "with open('../data/raw/modified_recipes_data.json') as json_file:\n",
    "    data = json.load(json_file)"
   ]
  },
  {
   "cell_type": "markdown",
   "metadata": {},
   "source": [
    "### Number of Recipes"
   ]
  },
  {
   "cell_type": "code",
   "execution_count": 4,
   "metadata": {},
   "outputs": [
    {
     "data": {
      "text/plain": [
       "1029718"
      ]
     },
     "execution_count": 4,
     "metadata": {},
     "output_type": "execute_result"
    }
   ],
   "source": [
    "len(data)"
   ]
  },
  {
   "cell_type": "markdown",
   "metadata": {},
   "source": [
    "### Recipe Format Example"
   ]
  },
  {
   "cell_type": "code",
   "execution_count": 5,
   "metadata": {},
   "outputs": [
    {
     "data": {
      "text/plain": [
       "{'ingredients': [{'text': '6 ounces penne'},\n",
       "  {'text': '2 cups Beechers Flagship Cheese Sauce (recipe follows)'},\n",
       "  {'text': '1 ounce Cheddar, grated (1/4 cup)'},\n",
       "  {'text': '1 ounce Gruyere cheese, grated (1/4 cup)'},\n",
       "  {'text': '1/4 to 1/2 teaspoon chipotle chili powder (see Note)'},\n",
       "  {'text': '1/4 cup (1/2 stick) unsalted butter'},\n",
       "  {'text': '1/3 cup all-purpose flour'},\n",
       "  {'text': '3 cups milk'},\n",
       "  {'text': '14 ounces semihard cheese (page 23), grated (about 3 1/2 cups)'},\n",
       "  {'text': '2 ounces semisoft cheese (page 23), grated (1/2 cup)'},\n",
       "  {'text': '1/2 teaspoon kosher salt'},\n",
       "  {'text': '1/4 to 1/2 teaspoon chipotle chili powder'},\n",
       "  {'text': '1/8 teaspoon garlic powder'},\n",
       "  {'text': '(makes about 4 cups)'}],\n",
       " 'url': 'http://www.epicurious.com/recipes/food/views/-world-s-best-mac-and-cheese-387747',\n",
       " 'partition': 'train',\n",
       " 'title': 'Worlds Best Mac and Cheese',\n",
       " 'id': '000018c8a5',\n",
       " 'instructions': [{'text': 'Preheat the oven to 350 F. Butter or oil an 8-inch baking dish.'},\n",
       "  {'text': 'Cook the penne 2 minutes less than package directions.'},\n",
       "  {'text': '(It will finish cooking in the oven.)'},\n",
       "  {'text': 'Rinse the pasta in cold water and set aside.'},\n",
       "  {'text': 'Combine the cooked pasta and the sauce in a medium bowl and mix carefully but thoroughly.'},\n",
       "  {'text': 'Scrape the pasta into the prepared baking dish.'},\n",
       "  {'text': 'Sprinkle the top with the cheeses and then the chili powder.'},\n",
       "  {'text': 'Bake, uncovered, for 20 minutes.'},\n",
       "  {'text': 'Let the mac and cheese sit for 5 minutes before serving.'},\n",
       "  {'text': 'Melt the butter in a heavy-bottomed saucepan over medium heat and whisk in the flour.'},\n",
       "  {'text': 'Continue whisking and cooking for 2 minutes.'},\n",
       "  {'text': 'Slowly add the milk, whisking constantly.'},\n",
       "  {'text': 'Cook until the sauce thickens, about 10 minutes, stirring frequently.'},\n",
       "  {'text': 'Remove from the heat.'},\n",
       "  {'text': 'Add the cheeses, salt, chili powder, and garlic powder.'},\n",
       "  {'text': 'Stir until the cheese is melted and all ingredients are incorporated, about 3 minutes.'},\n",
       "  {'text': 'Use immediately, or refrigerate for up to 3 days.'},\n",
       "  {'text': 'This sauce reheats nicely on the stove in a saucepan over low heat.'},\n",
       "  {'text': 'Stir frequently so the sauce doesnt scorch.'},\n",
       "  {'text': 'This recipe can be assembled before baking and frozen for up to 3 monthsjust be sure to use a freezer-to-oven pan and increase the baking time to 50 minutes.'},\n",
       "  {'text': 'One-half teaspoon of chipotle chili powder makes a spicy mac, so make sure your family and friends can handle it!'},\n",
       "  {'text': 'The proportion of pasta to cheese sauce is crucial to the success of the dish.'},\n",
       "  {'text': 'It will look like a lot of sauce for the pasta, but some of the liquid will be absorbed.'}]}"
      ]
     },
     "execution_count": 5,
     "metadata": {},
     "output_type": "execute_result"
    }
   ],
   "source": [
    "data[0]"
   ]
  },
  {
   "cell_type": "markdown",
   "metadata": {},
   "source": [
    "### Ingredient and Instruction Stats"
   ]
  },
  {
   "cell_type": "code",
   "execution_count": 7,
   "metadata": {},
   "outputs": [],
   "source": [
    "# ingredients data\n",
    "num_ingredients_dist = [len(i['ingredients']) for i in data]\n",
    "avg_num_ingredients = sum(num_ingredients_dist)/len(data)\n",
    "max_num_ingredients = max(num_ingredients_dist)\n",
    "min_num_ingredients = min(num_ingredients_dist)\n",
    "\n",
    "# instructions data\n",
    "num_instruction_steps_dist = [len(i['instructions']) for i in data]\n",
    "avg_num_instruction_steps = sum(num_instruction_steps_dist)/len(data)\n",
    "max_num_instruction_steps = max(num_instruction_steps_dist)\n",
    "min_num_instruction_steps = min(num_instruction_steps_dist)\n",
    "\n"
   ]
  },
  {
   "cell_type": "code",
   "execution_count": 8,
   "metadata": {},
   "outputs": [
    {
     "data": {
      "text/html": [
       "<div>\n",
       "<style scoped>\n",
       "    .dataframe tbody tr th:only-of-type {\n",
       "        vertical-align: middle;\n",
       "    }\n",
       "\n",
       "    .dataframe tbody tr th {\n",
       "        vertical-align: top;\n",
       "    }\n",
       "\n",
       "    .dataframe thead th {\n",
       "        text-align: right;\n",
       "    }\n",
       "</style>\n",
       "<table border=\"1\" class=\"dataframe\">\n",
       "  <thead>\n",
       "    <tr style=\"text-align: right;\">\n",
       "      <th></th>\n",
       "      <th>Number of Ingredients</th>\n",
       "    </tr>\n",
       "  </thead>\n",
       "  <tbody>\n",
       "    <tr>\n",
       "      <th>count</th>\n",
       "      <td>1029718.00</td>\n",
       "    </tr>\n",
       "    <tr>\n",
       "      <th>mean</th>\n",
       "      <td>9.33</td>\n",
       "    </tr>\n",
       "    <tr>\n",
       "      <th>std</th>\n",
       "      <td>4.31</td>\n",
       "    </tr>\n",
       "    <tr>\n",
       "      <th>min</th>\n",
       "      <td>0.00</td>\n",
       "    </tr>\n",
       "    <tr>\n",
       "      <th>25%</th>\n",
       "      <td>6.00</td>\n",
       "    </tr>\n",
       "    <tr>\n",
       "      <th>50%</th>\n",
       "      <td>9.00</td>\n",
       "    </tr>\n",
       "    <tr>\n",
       "      <th>75%</th>\n",
       "      <td>12.00</td>\n",
       "    </tr>\n",
       "    <tr>\n",
       "      <th>max</th>\n",
       "      <td>99.00</td>\n",
       "    </tr>\n",
       "  </tbody>\n",
       "</table>\n",
       "</div>"
      ],
      "text/plain": [
       "       Number of Ingredients\n",
       "count             1029718.00\n",
       "mean                    9.33\n",
       "std                     4.31\n",
       "min                     0.00\n",
       "25%                     6.00\n",
       "50%                     9.00\n",
       "75%                    12.00\n",
       "max                    99.00"
      ]
     },
     "execution_count": 8,
     "metadata": {},
     "output_type": "execute_result"
    }
   ],
   "source": [
    "pd.DataFrame(num_ingredients_dist,columns = ['Number of Ingredients']).describe().round(2)"
   ]
  },
  {
   "cell_type": "code",
   "execution_count": 9,
   "metadata": {},
   "outputs": [
    {
     "data": {
      "text/html": [
       "<div>\n",
       "<style scoped>\n",
       "    .dataframe tbody tr th:only-of-type {\n",
       "        vertical-align: middle;\n",
       "    }\n",
       "\n",
       "    .dataframe tbody tr th {\n",
       "        vertical-align: top;\n",
       "    }\n",
       "\n",
       "    .dataframe thead th {\n",
       "        text-align: right;\n",
       "    }\n",
       "</style>\n",
       "<table border=\"1\" class=\"dataframe\">\n",
       "  <thead>\n",
       "    <tr style=\"text-align: right;\">\n",
       "      <th></th>\n",
       "      <th>Number of Instruction Steps \\n Descriptive Statistics</th>\n",
       "    </tr>\n",
       "  </thead>\n",
       "  <tbody>\n",
       "    <tr>\n",
       "      <th>count</th>\n",
       "      <td>1029718.00</td>\n",
       "    </tr>\n",
       "    <tr>\n",
       "      <th>mean</th>\n",
       "      <td>10.32</td>\n",
       "    </tr>\n",
       "    <tr>\n",
       "      <th>std</th>\n",
       "      <td>6.78</td>\n",
       "    </tr>\n",
       "    <tr>\n",
       "      <th>min</th>\n",
       "      <td>0.00</td>\n",
       "    </tr>\n",
       "    <tr>\n",
       "      <th>25%</th>\n",
       "      <td>6.00</td>\n",
       "    </tr>\n",
       "    <tr>\n",
       "      <th>50%</th>\n",
       "      <td>9.00</td>\n",
       "    </tr>\n",
       "    <tr>\n",
       "      <th>75%</th>\n",
       "      <td>13.00</td>\n",
       "    </tr>\n",
       "    <tr>\n",
       "      <th>max</th>\n",
       "      <td>164.00</td>\n",
       "    </tr>\n",
       "  </tbody>\n",
       "</table>\n",
       "</div>"
      ],
      "text/plain": [
       "       Number of Instruction Steps \\n Descriptive Statistics\n",
       "count                                         1029718.00    \n",
       "mean                                               10.32    \n",
       "std                                                 6.78    \n",
       "min                                                 0.00    \n",
       "25%                                                 6.00    \n",
       "50%                                                 9.00    \n",
       "75%                                                13.00    \n",
       "max                                               164.00    "
      ]
     },
     "execution_count": 9,
     "metadata": {},
     "output_type": "execute_result"
    }
   ],
   "source": [
    "pd.DataFrame(num_instruction_steps_dist,columns = ['Number of Instruction Steps \\n Descriptive Statistics']).describe().round(2)"
   ]
  },
  {
   "cell_type": "markdown",
   "metadata": {},
   "source": [
    "### Ingredient Count Distribution"
   ]
  },
  {
   "cell_type": "code",
   "execution_count": 10,
   "metadata": {},
   "outputs": [
    {
     "data": {
      "text/plain": [
       "<matplotlib.axes._subplots.AxesSubplot at 0x11bcbcf90>"
      ]
     },
     "execution_count": 10,
     "metadata": {},
     "output_type": "execute_result"
    },
    {
     "data": {
      "image/png": "[encoded data removed]",
      "text/plain": [
       "<Figure size 432x288 with 1 Axes>"
      ]
     },
     "metadata": {
      "needs_background": "light"
     },
     "output_type": "display_data"
    }
   ],
   "source": [
    "sns.distplot(num_ingredients_dist)"
   ]
  },
  {
   "cell_type": "markdown",
   "metadata": {},
   "source": [
    "### Instructions Count Distribution"
   ]
  },
  {
   "cell_type": "code",
   "execution_count": 11,
   "metadata": {},
   "outputs": [
    {
     "data": {
      "text/plain": [
       "<matplotlib.axes._subplots.AxesSubplot at 0x31d9a2a90>"
      ]
     },
     "execution_count": 11,
     "metadata": {},
     "output_type": "execute_result"
    },
    {
     "data": {
      "image/png": "[encoded data removed]",
      "text/plain": [
       "<Figure size 432x288 with 1 Axes>"
      ]
     },
     "metadata": {
      "needs_background": "light"
     },
     "output_type": "display_data"
    }
   ],
   "source": [
    "sns.distplot(num_instruction_steps_dist)"
   ]
  },
  {
   "cell_type": "markdown",
   "metadata": {},
   "source": [
    "### Relationship Between Ingredient and Instruction Counts"
   ]
  },
  {
   "cell_type": "code",
   "execution_count": 12,
   "metadata": {},
   "outputs": [
    {
     "data": {
      "text/plain": [
       "<matplotlib.legend.Legend at 0x321c7f110>"
      ]
     },
     "execution_count": 12,
     "metadata": {},
     "output_type": "execute_result"
    },
    {
     "data": {
      "image/png": "[encoded data removed]",
      "text/plain": [
       "<Figure size 432x288 with 1 Axes>"
      ]
     },
     "metadata": {
      "needs_background": "light"
     },
     "output_type": "display_data"
    }
   ],
   "source": [
    "sns.kdeplot(num_ingredients_dist,label='Ingredients Count')\n",
    "sns.kdeplot(num_instruction_steps_dist,label='Instruction Count')\n",
    "\n",
    "plt.legend()"
   ]
  },
  {
   "cell_type": "code",
   "execution_count": 13,
   "metadata": {},
   "outputs": [
    {
     "data": {
      "image/png": "[encoded data removed]",
      "text/plain": [
       "<Figure size 432x432 with 3 Axes>"
      ]
     },
     "metadata": {
      "needs_background": "light"
     },
     "output_type": "display_data"
    }
   ],
   "source": [
    "df = pd.DataFrame(list(zip(num_ingredients_dist,num_instruction_steps_dist)),columns = ['Ingredients','Instructions'])\n",
    "sns.jointplot(x=\"Ingredients\", y=\"Instructions\", data=df,s=2);"
   ]
  },
  {
   "cell_type": "markdown",
   "metadata": {},
   "source": [
    "### DataFrame View"
   ]
  },
  {
   "cell_type": "code",
   "execution_count": 14,
   "metadata": {},
   "outputs": [],
   "source": [
    "df = pd.DataFrame(data)"
   ]
  },
  {
   "cell_type": "code",
   "execution_count": 15,
   "metadata": {},
   "outputs": [
    {
     "data": {
      "text/html": [
       "<div>\n",
       "<style scoped>\n",
       "    .dataframe tbody tr th:only-of-type {\n",
       "        vertical-align: middle;\n",
       "    }\n",
       "\n",
       "    .dataframe tbody tr th {\n",
       "        vertical-align: top;\n",
       "    }\n",
       "\n",
       "    .dataframe thead th {\n",
       "        text-align: right;\n",
       "    }\n",
       "</style>\n",
       "<table border=\"1\" class=\"dataframe\">\n",
       "  <thead>\n",
       "    <tr style=\"text-align: right;\">\n",
       "      <th></th>\n",
       "      <th>ingredients</th>\n",
       "      <th>url</th>\n",
       "      <th>partition</th>\n",
       "      <th>title</th>\n",
       "      <th>id</th>\n",
       "      <th>instructions</th>\n",
       "    </tr>\n",
       "  </thead>\n",
       "  <tbody>\n",
       "    <tr>\n",
       "      <th>0</th>\n",
       "      <td>[{'text': '6 ounces penne'}, {'text': '2 cups ...</td>\n",
       "      <td>http://www.epicurious.com/recipes/food/views/-...</td>\n",
       "      <td>train</td>\n",
       "      <td>Worlds Best Mac and Cheese</td>\n",
       "      <td>000018c8a5</td>\n",
       "      <td>[{'text': 'Preheat the oven to 350 F. Butter o...</td>\n",
       "    </tr>\n",
       "    <tr>\n",
       "      <th>1</th>\n",
       "      <td>[{'text': '1 c. elbow macaroni'}, {'text': '1 ...</td>\n",
       "      <td>http://cookeatshare.com/recipes/dilly-macaroni...</td>\n",
       "      <td>train</td>\n",
       "      <td>Dilly Macaroni Salad Recipe</td>\n",
       "      <td>000033e39b</td>\n",
       "      <td>[{'text': 'Cook macaroni according to package ...</td>\n",
       "    </tr>\n",
       "    <tr>\n",
       "      <th>2</th>\n",
       "      <td>[{'text': '8 tomatoes, quartered'}, {'text': '...</td>\n",
       "      <td>http://www.foodnetwork.com/recipes/gazpacho1.html</td>\n",
       "      <td>train</td>\n",
       "      <td>Gazpacho</td>\n",
       "      <td>000035f7ed</td>\n",
       "      <td>[{'text': 'Add the tomatoes to a food processo...</td>\n",
       "    </tr>\n",
       "    <tr>\n",
       "      <th>3</th>\n",
       "      <td>[{'text': '2 12 cups milk'}, {'text': '1 12 cu...</td>\n",
       "      <td>http://www.food.com/recipe/crunchy-onion-potat...</td>\n",
       "      <td>test</td>\n",
       "      <td>Crunchy Onion Potato Bake</td>\n",
       "      <td>00003a70b1</td>\n",
       "      <td>[{'text': 'Preheat oven to 350 degrees Fahrenh...</td>\n",
       "    </tr>\n",
       "    <tr>\n",
       "      <th>4</th>\n",
       "      <td>[{'text': '1 (3 ounce) package watermelon gela...</td>\n",
       "      <td>http://www.food.com/recipe/cool-n-easy-creamy-...</td>\n",
       "      <td>train</td>\n",
       "      <td>Cool 'n Easy Creamy Watermelon Pie</td>\n",
       "      <td>00004320bb</td>\n",
       "      <td>[{'text': 'Dissolve Jello in boiling water.'},...</td>\n",
       "    </tr>\n",
       "  </tbody>\n",
       "</table>\n",
       "</div>"
      ],
      "text/plain": [
       "                                         ingredients  \\\n",
       "0  [{'text': '6 ounces penne'}, {'text': '2 cups ...   \n",
       "1  [{'text': '1 c. elbow macaroni'}, {'text': '1 ...   \n",
       "2  [{'text': '8 tomatoes, quartered'}, {'text': '...   \n",
       "3  [{'text': '2 12 cups milk'}, {'text': '1 12 cu...   \n",
       "4  [{'text': '1 (3 ounce) package watermelon gela...   \n",
       "\n",
       "                                                 url partition  \\\n",
       "0  http://www.epicurious.com/recipes/food/views/-...     train   \n",
       "1  http://cookeatshare.com/recipes/dilly-macaroni...     train   \n",
       "2  http://www.foodnetwork.com/recipes/gazpacho1.html     train   \n",
       "3  http://www.food.com/recipe/crunchy-onion-potat...      test   \n",
       "4  http://www.food.com/recipe/cool-n-easy-creamy-...     train   \n",
       "\n",
       "                                title          id  \\\n",
       "0          Worlds Best Mac and Cheese  000018c8a5   \n",
       "1         Dilly Macaroni Salad Recipe  000033e39b   \n",
       "2                            Gazpacho  000035f7ed   \n",
       "3           Crunchy Onion Potato Bake  00003a70b1   \n",
       "4  Cool 'n Easy Creamy Watermelon Pie  00004320bb   \n",
       "\n",
       "                                        instructions  \n",
       "0  [{'text': 'Preheat the oven to 350 F. Butter o...  \n",
       "1  [{'text': 'Cook macaroni according to package ...  \n",
       "2  [{'text': 'Add the tomatoes to a food processo...  \n",
       "3  [{'text': 'Preheat oven to 350 degrees Fahrenh...  \n",
       "4  [{'text': 'Dissolve Jello in boiling water.'},...  "
      ]
     },
     "execution_count": 15,
     "metadata": {},
     "output_type": "execute_result"
    }
   ],
   "source": [
    "df.head()"
   ]
  },
  {
   "cell_type": "code",
   "execution_count": 16,
   "metadata": {},
   "outputs": [
    {
     "data": {
      "text/plain": [
       "[{'text': '6 ounces penne'},\n",
       " {'text': '2 cups Beechers Flagship Cheese Sauce (recipe follows)'},\n",
       " {'text': '1 ounce Cheddar, grated (1/4 cup)'},\n",
       " {'text': '1 ounce Gruyere cheese, grated (1/4 cup)'},\n",
       " {'text': '1/4 to 1/2 teaspoon chipotle chili powder (see Note)'},\n",
       " {'text': '1/4 cup (1/2 stick) unsalted butter'},\n",
       " {'text': '1/3 cup all-purpose flour'},\n",
       " {'text': '3 cups milk'},\n",
       " {'text': '14 ounces semihard cheese (page 23), grated (about 3 1/2 cups)'},\n",
       " {'text': '2 ounces semisoft cheese (page 23), grated (1/2 cup)'},\n",
       " {'text': '1/2 teaspoon kosher salt'},\n",
       " {'text': '1/4 to 1/2 teaspoon chipotle chili powder'},\n",
       " {'text': '1/8 teaspoon garlic powder'},\n",
       " {'text': '(makes about 4 cups)'}]"
      ]
     },
     "execution_count": 16,
     "metadata": {},
     "output_type": "execute_result"
    }
   ],
   "source": [
    "df['ingredients'][0]"
   ]
  },
  {
   "cell_type": "markdown",
   "metadata": {},
   "source": [
    "##### Fix Ingredient and Instruction Lists"
   ]
  },
  {
   "cell_type": "code",
   "execution_count": 17,
   "metadata": {},
   "outputs": [],
   "source": [
    "for i,r in df.iterrows():\n",
    "    _ingredients = [i['text'] for i in r['ingredients']]\n",
    "    _instructions = [i['text'] for i in r['instructions']]\n",
    "    df.at[i,'ingredients'] = _ingredients\n",
    "    df.at[i,'instructions'] = _instructions"
   ]
  },
  {
   "cell_type": "code",
   "execution_count": 18,
   "metadata": {},
   "outputs": [
    {
     "data": {
      "text/html": [
       "<div>\n",
       "<style scoped>\n",
       "    .dataframe tbody tr th:only-of-type {\n",
       "        vertical-align: middle;\n",
       "    }\n",
       "\n",
       "    .dataframe tbody tr th {\n",
       "        vertical-align: top;\n",
       "    }\n",
       "\n",
       "    .dataframe thead th {\n",
       "        text-align: right;\n",
       "    }\n",
       "</style>\n",
       "<table border=\"1\" class=\"dataframe\">\n",
       "  <thead>\n",
       "    <tr style=\"text-align: right;\">\n",
       "      <th></th>\n",
       "      <th>id</th>\n",
       "      <th>title</th>\n",
       "      <th>ingredients</th>\n",
       "      <th>instructions</th>\n",
       "      <th>url</th>\n",
       "      <th>partition</th>\n",
       "    </tr>\n",
       "  </thead>\n",
       "  <tbody>\n",
       "    <tr>\n",
       "      <th>0</th>\n",
       "      <td>000018c8a5</td>\n",
       "      <td>Worlds Best Mac and Cheese</td>\n",
       "      <td>[6 ounces penne, 2 cups Beechers Flagship Chee...</td>\n",
       "      <td>[Preheat the oven to 350 F. Butter or oil an 8...</td>\n",
       "      <td>http://www.epicurious.com/recipes/food/views/-...</td>\n",
       "      <td>train</td>\n",
       "    </tr>\n",
       "    <tr>\n",
       "      <th>1</th>\n",
       "      <td>000033e39b</td>\n",
       "      <td>Dilly Macaroni Salad Recipe</td>\n",
       "      <td>[1 c. elbow macaroni, 1 c. cubed American chee...</td>\n",
       "      <td>[Cook macaroni according to package directions...</td>\n",
       "      <td>http://cookeatshare.com/recipes/dilly-macaroni...</td>\n",
       "      <td>train</td>\n",
       "    </tr>\n",
       "    <tr>\n",
       "      <th>2</th>\n",
       "      <td>000035f7ed</td>\n",
       "      <td>Gazpacho</td>\n",
       "      <td>[8 tomatoes, quartered, Kosher salt, 1 red oni...</td>\n",
       "      <td>[Add the tomatoes to a food processor with a p...</td>\n",
       "      <td>http://www.foodnetwork.com/recipes/gazpacho1.html</td>\n",
       "      <td>train</td>\n",
       "    </tr>\n",
       "    <tr>\n",
       "      <th>3</th>\n",
       "      <td>00003a70b1</td>\n",
       "      <td>Crunchy Onion Potato Bake</td>\n",
       "      <td>[2 12 cups milk, 1 12 cups water, 14 cup butte...</td>\n",
       "      <td>[Preheat oven to 350 degrees Fahrenheit., Spra...</td>\n",
       "      <td>http://www.food.com/recipe/crunchy-onion-potat...</td>\n",
       "      <td>test</td>\n",
       "    </tr>\n",
       "    <tr>\n",
       "      <th>4</th>\n",
       "      <td>00004320bb</td>\n",
       "      <td>Cool 'n Easy Creamy Watermelon Pie</td>\n",
       "      <td>[1 (3 ounce) package watermelon gelatin, 14 cu...</td>\n",
       "      <td>[Dissolve Jello in boiling water., Allow to co...</td>\n",
       "      <td>http://www.food.com/recipe/cool-n-easy-creamy-...</td>\n",
       "      <td>train</td>\n",
       "    </tr>\n",
       "  </tbody>\n",
       "</table>\n",
       "</div>"
      ],
      "text/plain": [
       "           id                               title  \\\n",
       "0  000018c8a5          Worlds Best Mac and Cheese   \n",
       "1  000033e39b         Dilly Macaroni Salad Recipe   \n",
       "2  000035f7ed                            Gazpacho   \n",
       "3  00003a70b1           Crunchy Onion Potato Bake   \n",
       "4  00004320bb  Cool 'n Easy Creamy Watermelon Pie   \n",
       "\n",
       "                                         ingredients  \\\n",
       "0  [6 ounces penne, 2 cups Beechers Flagship Chee...   \n",
       "1  [1 c. elbow macaroni, 1 c. cubed American chee...   \n",
       "2  [8 tomatoes, quartered, Kosher salt, 1 red oni...   \n",
       "3  [2 12 cups milk, 1 12 cups water, 14 cup butte...   \n",
       "4  [1 (3 ounce) package watermelon gelatin, 14 cu...   \n",
       "\n",
       "                                        instructions  \\\n",
       "0  [Preheat the oven to 350 F. Butter or oil an 8...   \n",
       "1  [Cook macaroni according to package directions...   \n",
       "2  [Add the tomatoes to a food processor with a p...   \n",
       "3  [Preheat oven to 350 degrees Fahrenheit., Spra...   \n",
       "4  [Dissolve Jello in boiling water., Allow to co...   \n",
       "\n",
       "                                                 url partition  \n",
       "0  http://www.epicurious.com/recipes/food/views/-...     train  \n",
       "1  http://cookeatshare.com/recipes/dilly-macaroni...     train  \n",
       "2  http://www.foodnetwork.com/recipes/gazpacho1.html     train  \n",
       "3  http://www.food.com/recipe/crunchy-onion-potat...      test  \n",
       "4  http://www.food.com/recipe/cool-n-easy-creamy-...     train  "
      ]
     },
     "execution_count": 18,
     "metadata": {},
     "output_type": "execute_result"
    }
   ],
   "source": [
    "df[['id','title','ingredients','instructions','url','partition']].head()"
   ]
  },
  {
   "cell_type": "code",
   "execution_count": 64,
   "metadata": {},
   "outputs": [],
   "source": [
    "# Write Dataframe - not advised since writing a list to a csv inteprets the list as a string\n",
    "#df[['id','title','ingredients','instructions','url','partition']].to_csv('../../data/interim/recipes_1m_dataframe.csv',index=False)\n"
   ]
  },
  {
   "cell_type": "markdown",
   "metadata": {},
   "source": [
    "### Remake JSON file to be more intuitive, reduces original file size by 15%"
   ]
  },
  {
   "cell_type": "code",
   "execution_count": 60,
   "metadata": {},
   "outputs": [],
   "source": [
    "from functools import reduce\n",
    "def reduced_recipe_dict(dat):\n",
    "    return {\n",
    "        dat['id']: {\n",
    "            'title': dat['title'],\n",
    "            'source_url': dat['url'],\n",
    "            'ingredients': [ingredient['text'] for ingredient in dat['ingredients']],\n",
    "            'instructions': [instruction['text'] for instruction in dat['instructions']]\n",
    "        }\n",
    "    }\n",
    "\n",
    "json_data = reduce(\n",
    "    lambda d1, d2: (d1.update(d2) or d1),\n",
    "    map(reduced_recipe_dict, data),\n",
    "    {}\n",
    ")"
   ]
  },
  {
   "cell_type": "code",
   "execution_count": 63,
   "metadata": {},
   "outputs": [
    {
     "data": {
      "text/plain": [
       "{'title': 'Worlds Best Mac and Cheese',\n",
       " 'source_url': 'http://www.epicurious.com/recipes/food/views/-world-s-best-mac-and-cheese-387747',\n",
       " 'ingredients': ['6 ounces penne',\n",
       "  '2 cups Beechers Flagship Cheese Sauce (recipe follows)',\n",
       "  '1 ounce Cheddar, grated (1/4 cup)',\n",
       "  '1 ounce Gruyere cheese, grated (1/4 cup)',\n",
       "  '1/4 to 1/2 teaspoon chipotle chili powder (see Note)',\n",
       "  '1/4 cup (1/2 stick) unsalted butter',\n",
       "  '1/3 cup all-purpose flour',\n",
       "  '3 cups milk',\n",
       "  '14 ounces semihard cheese (page 23), grated (about 3 1/2 cups)',\n",
       "  '2 ounces semisoft cheese (page 23), grated (1/2 cup)',\n",
       "  '1/2 teaspoon kosher salt',\n",
       "  '1/4 to 1/2 teaspoon chipotle chili powder',\n",
       "  '1/8 teaspoon garlic powder',\n",
       "  '(makes about 4 cups)'],\n",
       " 'instructions': ['Preheat the oven to 350 F. Butter or oil an 8-inch baking dish.',\n",
       "  'Cook the penne 2 minutes less than package directions.',\n",
       "  '(It will finish cooking in the oven.)',\n",
       "  'Rinse the pasta in cold water and set aside.',\n",
       "  'Combine the cooked pasta and the sauce in a medium bowl and mix carefully but thoroughly.',\n",
       "  'Scrape the pasta into the prepared baking dish.',\n",
       "  'Sprinkle the top with the cheeses and then the chili powder.',\n",
       "  'Bake, uncovered, for 20 minutes.',\n",
       "  'Let the mac and cheese sit for 5 minutes before serving.',\n",
       "  'Melt the butter in a heavy-bottomed saucepan over medium heat and whisk in the flour.',\n",
       "  'Continue whisking and cooking for 2 minutes.',\n",
       "  'Slowly add the milk, whisking constantly.',\n",
       "  'Cook until the sauce thickens, about 10 minutes, stirring frequently.',\n",
       "  'Remove from the heat.',\n",
       "  'Add the cheeses, salt, chili powder, and garlic powder.',\n",
       "  'Stir until the cheese is melted and all ingredients are incorporated, about 3 minutes.',\n",
       "  'Use immediately, or refrigerate for up to 3 days.',\n",
       "  'This sauce reheats nicely on the stove in a saucepan over low heat.',\n",
       "  'Stir frequently so the sauce doesnt scorch.',\n",
       "  'This recipe can be assembled before baking and frozen for up to 3 monthsjust be sure to use a freezer-to-oven pan and increase the baking time to 50 minutes.',\n",
       "  'One-half teaspoon of chipotle chili powder makes a spicy mac, so make sure your family and friends can handle it!',\n",
       "  'The proportion of pasta to cheese sauce is crucial to the success of the dish.',\n",
       "  'It will look like a lot of sauce for the pasta, but some of the liquid will be absorbed.']}"
      ]
     },
     "execution_count": 63,
     "metadata": {},
     "output_type": "execute_result"
    }
   ],
   "source": [
    "json_data['000018c8a5']"
   ]
  },
  {
   "cell_type": "code",
   "execution_count": 61,
   "metadata": {},
   "outputs": [
    {
     "data": {
      "text/plain": [
       "1029718"
      ]
     },
     "execution_count": 61,
     "metadata": {},
     "output_type": "execute_result"
    }
   ],
   "source": [
    "len(json_data)"
   ]
  },
  {
   "cell_type": "code",
   "execution_count": 66,
   "metadata": {},
   "outputs": [],
   "source": [
    "\n",
    "with open('../data/interim/recipes_1m_json_cleaned.json', 'w') as fp:\n",
    "    json.dump(json_data, fp)"
   ]
  },
  {
   "cell_type": "markdown",
   "metadata": {},
   "source": [
    "### Write DataFrame"
   ]
  },
  {
   "cell_type": "code",
   "execution_count": 50,
   "metadata": {},
   "outputs": [],
   "source": [
    "#df[['id','title','ingredients','instructions','url','partition']].to_csv('../../data/interim/recipes_1m_dataframe.csv',index=False)\n"
   ]
  },
  {
   "cell_type": "markdown",
   "metadata": {},
   "source": [
    "### Which Sites Contributed the Most to the Recipe List?"
   ]
  },
  {
   "cell_type": "code",
   "execution_count": 41,
   "metadata": {},
   "outputs": [],
   "source": [
    "sites = []\n",
    "for i,r in df.iterrows():\n",
    "    sites.append(r['url'].split('/')[2])"
   ]
  },
  {
   "cell_type": "code",
   "execution_count": 73,
   "metadata": {},
   "outputs": [],
   "source": [
    "from collections import Counter\n",
    "sorted_recipe_source_counts = sorted(Counter(sites).items(),key = lambda x:x[1], reverse=True)\n",
    "recipe_source_df = pd.DataFrame(sorted_recipe_source_counts,columns = ['Recipe Source','Count'])\n"
   ]
  },
  {
   "cell_type": "code",
   "execution_count": 98,
   "metadata": {},
   "outputs": [
    {
     "data": {
      "text/plain": [
       "<matplotlib.axes._subplots.AxesSubplot at 0x3801dfc90>"
      ]
     },
     "execution_count": 98,
     "metadata": {},
     "output_type": "execute_result"
    },
    {
     "data": {
      "image/png": "[encoded data removed]",
      "text/plain": [
       "<Figure size 432x288 with 1 Axes>"
      ]
     },
     "metadata": {
      "needs_background": "light"
     },
     "output_type": "display_data"
    }
   ],
   "source": [
    "sns.barplot(y=\"Recipe Source\", x=\"Count\", data=recipe_source_df[0:10])\n"
   ]
  },
  {
   "cell_type": "markdown",
   "metadata": {},
   "source": [
    "### Common Words in Recipe Titles"
   ]
  },
  {
   "cell_type": "code",
   "execution_count": 69,
   "metadata": {},
   "outputs": [
    {
     "data": {
      "text/plain": [
       "['Spicy Steak Fajitas - Mexico',\n",
       " 'Curried Asparagus Vichyssoise',\n",
       " \"Sunny's Fake Crepes\",\n",
       " 'Devil Eggs',\n",
       " 'Salvation Army Doughnuts',\n",
       " 'Baumkuchen -- the King of Cakes!',\n",
       " 'Extremely Easy and Quick - Namul Daikon Salad',\n",
       " 'Pan-Roasted Pork Chops With Apple Fritters',\n",
       " 'Polpette in Spicy Tomato Sauce',\n",
       " 'Mexican-Style Sweetened Black Coffee (Cafe de Olla)']"
      ]
     },
     "execution_count": 69,
     "metadata": {},
     "output_type": "execute_result"
    }
   ],
   "source": [
    "recipe_names = [i['title'] for i in data]\n",
    "recipe_names[-10:]"
   ]
  },
  {
   "cell_type": "code",
   "execution_count": 67,
   "metadata": {},
   "outputs": [
    {
     "ename": "NameError",
     "evalue": "name 'Counter' is not defined",
     "output_type": "error",
     "traceback": [
      "\u001b[0;31m---------------------------------------------------------------------------\u001b[0m",
      "\u001b[0;31mNameError\u001b[0m                                 Traceback (most recent call last)",
      "\u001b[0;32m<ipython-input-67-e7a79c348ace>\u001b[0m in \u001b[0;36m<module>\u001b[0;34m\u001b[0m\n\u001b[1;32m      3\u001b[0m     \u001b[0mtitle_words\u001b[0m\u001b[0;34m.\u001b[0m\u001b[0mappend\u001b[0m\u001b[0;34m(\u001b[0m\u001b[0mr\u001b[0m\u001b[0;34m[\u001b[0m\u001b[0;34m'title'\u001b[0m\u001b[0;34m]\u001b[0m\u001b[0;34m.\u001b[0m\u001b[0msplit\u001b[0m\u001b[0;34m(\u001b[0m\u001b[0;34m' '\u001b[0m\u001b[0;34m)\u001b[0m\u001b[0;34m)\u001b[0m\u001b[0;34m\u001b[0m\u001b[0;34m\u001b[0m\u001b[0m\n\u001b[1;32m      4\u001b[0m \u001b[0mtitle_words\u001b[0m \u001b[0;34m=\u001b[0m \u001b[0;34m[\u001b[0m\u001b[0mitem\u001b[0m\u001b[0;34m.\u001b[0m\u001b[0mlower\u001b[0m\u001b[0;34m(\u001b[0m\u001b[0;34m)\u001b[0m \u001b[0;32mfor\u001b[0m \u001b[0msublist\u001b[0m \u001b[0;32min\u001b[0m \u001b[0mtitle_words\u001b[0m \u001b[0;32mfor\u001b[0m \u001b[0mitem\u001b[0m \u001b[0;32min\u001b[0m \u001b[0msublist\u001b[0m\u001b[0;34m]\u001b[0m\u001b[0;34m\u001b[0m\u001b[0;34m\u001b[0m\u001b[0m\n\u001b[0;32m----> 5\u001b[0;31m \u001b[0msorted\u001b[0m\u001b[0;34m(\u001b[0m\u001b[0mCounter\u001b[0m\u001b[0;34m(\u001b[0m\u001b[0mtitle_words\u001b[0m\u001b[0;34m)\u001b[0m\u001b[0;34m.\u001b[0m\u001b[0mitems\u001b[0m\u001b[0;34m(\u001b[0m\u001b[0;34m)\u001b[0m\u001b[0;34m,\u001b[0m\u001b[0mkey\u001b[0m \u001b[0;34m=\u001b[0m \u001b[0;32mlambda\u001b[0m \u001b[0mx\u001b[0m\u001b[0;34m:\u001b[0m\u001b[0mx\u001b[0m\u001b[0;34m[\u001b[0m\u001b[0;36m1\u001b[0m\u001b[0;34m]\u001b[0m\u001b[0;34m,\u001b[0m \u001b[0mreverse\u001b[0m\u001b[0;34m=\u001b[0m\u001b[0;32mTrue\u001b[0m\u001b[0;34m)\u001b[0m\u001b[0;34m[\u001b[0m\u001b[0;34m:\u001b[0m\u001b[0;36m25\u001b[0m\u001b[0;34m]\u001b[0m\u001b[0;34m\u001b[0m\u001b[0;34m\u001b[0m\u001b[0m\n\u001b[0m",
      "\u001b[0;31mNameError\u001b[0m: name 'Counter' is not defined"
     ]
    }
   ],
   "source": [
    "title_words = []\n",
    "for i,r in df.iterrows():\n",
    "    title_words.append(r['title'].split(' '))\n",
    "title_words = [item.lower() for sublist in title_words for item in sublist]\n",
    "sorted(Counter(title_words).items(),key = lambda x:x[1], reverse=True)[:25]"
   ]
  },
  {
   "cell_type": "code",
   "execution_count": null,
   "metadata": {},
   "outputs": [],
   "source": []
  }
 ],
 "metadata": {
  "kernelspec": {
   "display_name": "Python 3",
   "language": "python",
   "name": "python3"
  },
  "language_info": {
   "codemirror_mode": {
    "name": "ipython",
    "version": 3
   },
   "file_extension": ".py",
   "mimetype": "text/x-python",
   "name": "python",
   "nbconvert_exporter": "python",
   "pygments_lexer": "ipython3",
   "version": "3.7.7"
  }
 },
 "nbformat": 4,
 "nbformat_minor": 2
}
